{
 "cells": [
  {
   "cell_type": "markdown",
   "metadata": {},
   "source": [
    "# Unicorn Dataset"
   ]
  },
  {
   "cell_type": "code",
   "execution_count": 63,
   "metadata": {},
   "outputs": [],
   "source": [
    "import sys\n",
    "import os\n",
    "sys.path.insert(0, os.path.abspath('..'))"
   ]
  },
  {
   "cell_type": "code",
   "execution_count": 64,
   "metadata": {},
   "outputs": [],
   "source": [
    "%%capture\n",
    "import math\n",
    "\n",
    "import numpy as np\n",
    "import scipy.io as sio\n",
    "from sklearn.cross_decomposition import CCA\n",
    "from sklearn.metrics import confusion_matrix,accuracy_score\n",
    "from scipy.signal import butter, filtfilt\n",
    "from  utilss import *"
   ]
  },
  {
   "cell_type": "code",
   "execution_count": 65,
   "metadata": {},
   "outputs": [],
   "source": [
    "def bandpass_filter(data, lowcut, highcut, sample_rate, order):\n",
    "\n",
    "    b, a = butter(order, [lowcut, highcut], btype='band',fs=sample_rate)\n",
    "    y = filtfilt(b, a, data)\n",
    "\n",
    "    return y\n",
    "\n",
    "def get_filtered_eeg(eeg, lowcut, highcut, order, sample_rate):\n",
    "    \n",
    "    num_classes = eeg.shape[0]\n",
    "    num_chan = eeg.shape[1]\n",
    "    total_trial_len = eeg.shape[2]\n",
    "    num_trials = eeg.shape[3]\n",
    "    \n",
    "    trial_len = int(0.135*sample_rate+4*sample_rate-1) - int(0.135*sample_rate)\n",
    "    filtered_data = np.zeros((eeg.shape[0], eeg.shape[1], trial_len, eeg.shape[3]))\n",
    "  \n",
    "\n",
    "    for target in range(eeg.shape[0]):\n",
    "        for channel in range(eeg.shape[1]):\n",
    "            for trial in range(eeg.shape[3]):\n",
    "                signal_to_filter = np.squeeze(eeg[target, channel, int(0.135*sample_rate) : int(0.135*sample_rate+4*sample_rate-1), trial])\n",
    "                \n",
    "                filtered_data[target, channel, :, trial] = bandpass_filter(signal_to_filter, lowcut, \n",
    "                                                                                  highcut, sample_rate, order)\n",
    "    return filtered_data\n"
   ]
  },
  {
   "cell_type": "code",
   "execution_count": 66,
   "metadata": {},
   "outputs": [],
   "source": [
    "\n",
    "def get_segmented_epochs(data, window_len, shift_len, sample_rate):\n",
    "    \n",
    "    num_classes = data.shape[0]\n",
    "    num_chan = data.shape[1]\n",
    "    num_trials = data.shape[3]\n",
    "    duration = int(window_len*sample_rate)\n",
    "    data_overlap = (window_len - shift_len)* sample_rate\n",
    "    \n",
    "    number_of_segments = int(math.ceil((data.shape[2] - data_overlap)/\n",
    "                                       (duration - data_overlap)))\n",
    "    \n",
    "    segmented_data = np.zeros((data.shape[0], data.shape[1], \n",
    "                               data.shape[3], number_of_segments, duration))\n",
    "\n",
    "    for target in range(num_classes):\n",
    "        for channel in range(num_chan):\n",
    "            for trial in range(num_trials):\n",
    "                segmented_data[target, channel, trial, :, :] = buffer(data[target, channel, :, trial], \n",
    "                                                                      duration, data_overlap) \n",
    "    \n",
    "    return segmented_data"
   ]
  },
  {
   "cell_type": "code",
   "execution_count": 67,
   "metadata": {},
   "outputs": [],
   "source": [
    "data_path = os.path.abspath('D:\\Downloads\\ISN2024\\AIN_AUC_SSVEP_Unicorn_Dataset_raw - Copy\\AAA')\n",
    "all_segment_data = dict()\n",
    "all_acc = list()\n",
    "window_len = 5\n",
    "shift_len = 5\n",
    "sample_rate = 250\n",
    "duration = int(window_len*sample_rate)\n",
    "flicker_freq = np.array([15, 10, 12, 16])"
   ]
  },
  {
   "cell_type": "code",
   "execution_count": 68,
   "metadata": {},
   "outputs": [],
   "source": [
    "def get_cca_reference_signals(data_len, target_freq, sampling_rate):\n",
    "    reference_signals = []\n",
    "    t = np.arange(0, (data_len/(sampling_rate)), step=1.0/(sampling_rate))\n",
    "    reference_signals.append(np.sin(np.pi*2*target_freq*t))\n",
    "    reference_signals.append(np.cos(np.pi*2*target_freq*t))\n",
    "    reference_signals.append(np.sin(np.pi*4*target_freq*t))\n",
    "    reference_signals.append(np.cos(np.pi*4*target_freq*t))\n",
    "    reference_signals = np.array(reference_signals)\n",
    "    \n",
    "    return reference_signals\n",
    "\n",
    "def find_correlation(n_components, np_buffer, freq):\n",
    "    cca = CCA(n_components)\n",
    "    corr = np.zeros(n_components)\n",
    "    result = np.zeros(freq.shape[0])\n",
    "\n",
    "    for freq_idx in range(0,freq.shape[0]):\n",
    "        cca.fit(np_buffer.T,np.squeeze(freq[freq_idx, :, :]).T)\n",
    "        O1_a,O1_b = cca.transform(np_buffer.T, np.squeeze(freq[freq_idx, :, :]).T)\n",
    "        corr = np.corrcoef(O1_a[: ,0], O1_b[:, 0])[0 ,1]        \n",
    "        result[freq_idx] = corr\n",
    "    \n",
    "    return result\n",
    "\n",
    "def cca_classify(segmented_data, reference_templates):\n",
    "    predicted_class = []\n",
    "    labels = []\n",
    "    for target in range(0, segmented_data.shape[0]):\n",
    "        for trial in range(0, segmented_data.shape[2]):\n",
    "            for segment in range(0, segmented_data.shape[3]):\n",
    "                labels.append(target)\n",
    "\n",
    "                result = find_correlation(1, segmented_data[target, :, trial, segment, :], \n",
    "                                      reference_templates)\n",
    "                predicted_class.append(np.argmax(result)+1)\n",
    "    labels = np.array(labels)+1\n",
    "    predicted_class = np.array(predicted_class)\n",
    "\n",
    "    return labels, predicted_class"
   ]
  },
  {
   "cell_type": "markdown",
   "metadata": {},
   "source": [
    "# Load dataset, filter and segment epochs\n",
    "filter and segement the data"
   ]
  },
  {
   "cell_type": "code",
   "execution_count": 69,
   "metadata": {},
   "outputs": [],
   "source": [
    "for subject in np.arange(0, 7):\n",
    "    dataset = sio.loadmat(f'{data_path}/s{subject+1}.mat')\n",
    "    eeg = np.array(dataset['eeg_data'], dtype='float32')\n",
    "    \n",
    "    num_classes = eeg.shape[0]\n",
    "    n_ch = eeg.shape[1]\n",
    "    total_trial_len = eeg.shape[2]\n",
    "    num_trials = eeg.shape[3]\n",
    "    \n",
    "    filtered_data = get_filtered_eeg(eeg, 6, 80, 4, sample_rate)\n",
    "    \n",
    "    \n",
    "    all_segment_data[f's{subject+1}'] = get_segmented_epochs(filtered_data, window_len, shift_len, sample_rate)"
   ]
  },
  {
   "cell_type": "markdown",
   "metadata": {},
   "source": [
    "# Generating the required sinusoidal templates for the given 12-class SSVEP classification"
   ]
  },
  {
   "cell_type": "code",
   "execution_count": 70,
   "metadata": {},
   "outputs": [],
   "source": [
    "reference_templates = []\n",
    "for fr in range(0, len(flicker_freq)):\n",
    "    reference_templates.append(get_cca_reference_signals(duration, flicker_freq[fr], sample_rate))\n",
    "reference_templates = np.array(reference_templates, dtype='float32')"
   ]
  },
  {
   "cell_type": "markdown",
   "metadata": {},
   "source": [
    "# Perform CCA on the segmented epochs"
   ]
  },
  {
   "cell_type": "code",
   "execution_count": 71,
   "metadata": {},
   "outputs": [
    {
     "name": "stdout",
     "output_type": "stream",
     "text": [
      "Subject: s1, Accuracy: 31.25 %\n",
      "Subject: s2, Accuracy: 25.0 %\n",
      "Subject: s3, Accuracy: 6.25 %\n",
      "Subject: s4, Accuracy: 34.375 %\n",
      "Subject: s5, Accuracy: 25.0 %\n",
      "Subject: s6, Accuracy: 34.375 %\n",
      "Subject: s7, Accuracy: 31.25 %\n"
     ]
    }
   ],
   "source": [
    "for subject in all_segment_data.keys():\n",
    "    labels, predicted_class = cca_classify(all_segment_data[subject], reference_templates)\n",
    "\n",
    "    acc=accuracy_score(labels, predicted_class)\n",
    "    all_acc.append(acc)\n",
    "    print(f'Subject: {subject}, Accuracy: {acc*100} %')"
   ]
  },
  {
   "cell_type": "code",
   "execution_count": 72,
   "metadata": {},
   "outputs": [
    {
     "name": "stdout",
     "output_type": "stream",
     "text": [
      "Overall Accuracy Across Subjects: 26.785714285714285 %, std: 9.127253705473603 %\n"
     ]
    }
   ],
   "source": [
    "all_acc = np.array(all_acc)\n",
    "print(f'Overall Accuracy Across Subjects: {np.mean(all_acc)*100} %, std: {np.std(all_acc)*100} %')"
   ]
  },
  {
   "cell_type": "code",
   "execution_count": 74,
   "metadata": {},
   "outputs": [
    {
     "data": {
      "image/png": "[encoded data removed]",
      "text/plain": [
       "<Figure size 1000x600 with 1 Axes>"
      ]
     },
     "metadata": {},
     "output_type": "display_data"
    }
   ],
   "source": [
    "import matplotlib.pyplot as plt\n",
    "from sklearn.metrics import accuracy_score\n",
    "\n",
    "# Assuming all_segment_data and reference_templates are already defined\n",
    "all_acc = []\n",
    "subject_ids = []\n",
    "\n",
    "# Compute accuracy for each subject\n",
    "for subject in all_segment_data.keys():\n",
    "    labels, predicted_class = cca_classify(all_segment_data[subject], reference_templates)\n",
    "    acc = accuracy_score(labels, predicted_class)\n",
    "    all_acc.append(acc * 100)  # Convert to percentage\n",
    "    subject_ids.append(subject)  # Store subject ID\n",
    "\n",
    "# Plotting the accuracies\n",
    "plt.figure(figsize=(10, 6))\n",
    "plt.bar(subject_ids, all_acc, color='skyblue')\n",
    "plt.xlabel('Subjects')\n",
    "plt.ylabel('Accuracy (%)')\n",
    "plt.title('Classification Accuracy per Subject')\n",
    "plt.ylim(0, 40)  # Adjust based on your accuracy range\n",
    "plt.grid(axis='y', linestyle='--', alpha=0.7)\n",
    "plt.show()\n"
   ]
  }
 ],
 "metadata": {
  "kernelspec": {
   "display_name": "Python 3 (ipykernel)",
   "language": "python",
   "name": "python3"
  },
  "language_info": {
   "codemirror_mode": {
    "name": "ipython",
    "version": 3
   },
   "file_extension": ".py",
   "mimetype": "text/x-python",
   "name": "python",
   "nbconvert_exporter": "python",
   "pygments_lexer": "ipython3",
   "version": "3.11.9"
  },
  "varInspector": {
   "cols": {
    "lenName": 16,
    "lenType": 16,
    "lenVar": 40
   },
   "kernels_config": {
    "python": {
     "delete_cmd_postfix": "",
     "delete_cmd_prefix": "del ",
     "library": "var_list.py",
     "varRefreshCmd": "print(var_dic_list())"
    },
    "r": {
     "delete_cmd_postfix": ") ",
     "delete_cmd_prefix": "rm(",
     "library": "var_list.r",
     "varRefreshCmd": "cat(var_dic_list()) "
    }
   },
   "position": {
    "height": "783px",
    "left": "1528px",
    "right": "20px",
    "top": "115px",
    "width": "387px"
   },
   "types_to_exclude": [
    "module",
    "function",
    "builtin_function_or_method",
    "instance",
    "_Feature"
   ],
   "window_display": true
  }
 },
 "nbformat": 4,
 "nbformat_minor": 4
}
